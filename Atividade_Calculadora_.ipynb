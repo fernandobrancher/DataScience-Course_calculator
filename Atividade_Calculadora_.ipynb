{
  "nbformat": 4,
  "nbformat_minor": 0,
  "metadata": {
    "colab": {
      "provenance": []
    },
    "kernelspec": {
      "name": "python3",
      "display_name": "Python 3"
    },
    "language_info": {
      "name": "python"
    }
  },
  "cells": [
    {
      "cell_type": "markdown",
      "source": [
        "# Atividade Calculadora\n",
        "\n",
        "Aluno: Fernando Augusto Brancher"
      ],
      "metadata": {
        "id": "g2jBvldDj5Db"
      }
    },
    {
      "cell_type": "markdown",
      "source": [
        "Faça uma calculadora que receba expressões aritméticas simples. A expressão deve conter dois operandos com um operador entre eles, de acordo com o exemplo:\n",
        "```py\n",
        "Entrada: 10 + 20\n",
        "Saída: 30\n",
        "\n",
        "Entrada: 2 ^ 4\n",
        "Saída: 16\n",
        "```\n",
        "Faça o tratamento de erros para quando a entrada não estiver no formato adequado, os dados de entrada não forem dados válidos ou o operador for inválido. Ao final, mostre a saída da operação."
      ],
      "metadata": {
        "id": "TvKL7vdk8-JR"
      }
    },
    {
      "cell_type": "code",
      "execution_count": null,
      "metadata": {
        "id": "nycXPYun8wSB"
      },
      "outputs": [],
      "source": [
        "print(':::::: CALCULADORA ::::::: \\nInsira os dados conforme instruções abaixo. ')\n",
        "entrada = input('Digite: número, espaço, operação, espaço, número. \\nEntrada: ')\n",
        "\n",
        "lista_ent = entrada.split(' ')\n",
        "lista_ent \n",
        "\n",
        "error = False\n",
        "\n",
        "try:\n",
        "  n1 = float(lista_ent[0])\n",
        "  n2 = float(lista_ent[2])\n",
        "except ValueError:\n",
        "  print('Entrada Inválida. Não foram inseridos números corretamente.')\n",
        "  error = True\n",
        "except IndexError:\n",
        "  print('Entrada Inválida. Não foi inserido o número correto de valores.')\n",
        "  error = True\n",
        "\n",
        "try:\n",
        "  operador = lista_ent[1]\n",
        "except IndexError:\n",
        "  print('Entrada Inválida. É possível que não tenham sido inseridos os espaços.')\n",
        "  error = True\n",
        "\n",
        "\n",
        "if error != True:\n",
        "  if operador == '+':\n",
        "    resultado = n1 + n2\n",
        "    print(f'Resultado: {resultado}')\n",
        "  elif operador == '-':\n",
        "    resultado = n1 - n2\n",
        "    print(f'Resultado: {resultado}')\n",
        "  elif operador == '*':\n",
        "    resultado = n1 * n2\n",
        "    print(f'Resultado: {resultado}')\n",
        "  elif operador == '/':\n",
        "    resultado = n1 / n2\n",
        "    print(f'Resultado: {resultado}')\n",
        "  elif operador == '^':\n",
        "    resultado = n1 ** n2\n",
        "    print(f'Resultado: {resultado}')\n",
        "  else:\n",
        "    print('Operador Inválido ou número incorreto de valores fornecidos.')\n",
        "    # Operador inválido OU a lista ficou com mais de três elementos.\n"
      ]
    }
  ]
}